{
  "nbformat": 4,
  "nbformat_minor": 0,
  "metadata": {
    "colab": {
      "provenance": [],
      "gpuType": "T4",
      "authorship_tag": "ABX9TyO4SqbZPOPAWFS1BBm0Iti/",
      "include_colab_link": true
    },
    "kernelspec": {
      "name": "python3",
      "display_name": "Python 3"
    },
    "language_info": {
      "name": "python"
    },
    "accelerator": "GPU"
  },
  "cells": [
    {
      "cell_type": "markdown",
      "metadata": {
        "id": "view-in-github",
        "colab_type": "text"
      },
      "source": [
        "<a href=\"https://colab.research.google.com/github/M-SAAD-BIN-MAZHAR/GenerativeAICourse/blob/main/TexttoImageGenerationUsingHuggingFace.ipynb\" target=\"_parent\"><img src=\"https://colab.research.google.com/assets/colab-badge.svg\" alt=\"Open In Colab\"/></a>"
      ]
    },
    {
      "cell_type": "code",
      "execution_count": null,
      "metadata": {
        "id": "7qX0Q7Nsg1kV"
      },
      "outputs": [],
      "source": []
    },
    {
      "cell_type": "markdown",
      "source": [
        "## Text-to-Image Generation using Stable Diffusion and Diffusers\n",
        "\n"
      ],
      "metadata": {
        "id": "1YqWmUyBg4wt"
      }
    },
    {
      "cell_type": "code",
      "source": [
        "#diffusers is a hugging face page for using diffusion models from huggingface hub\n",
        "!pip install diffusers transformers accelerate\n"
      ],
      "metadata": {
        "collapsed": true,
        "id": "ZwWajf9Bg5J2"
      },
      "execution_count": null,
      "outputs": []
    },
    {
      "cell_type": "code",
      "source": [
        "from diffusers import StableDiffusionPipeline\n",
        "import torch\n",
        "import matplotlib.pyplot as plt\n"
      ],
      "metadata": {
        "id": "cUSwQBKUg--c"
      },
      "execution_count": null,
      "outputs": []
    },
    {
      "cell_type": "code",
      "source": [
        "!pip show torch"
      ],
      "metadata": {
        "id": "vKbSNXUXhQjg"
      },
      "execution_count": null,
      "outputs": []
    },
    {
      "cell_type": "code",
      "source": [
        "model_id1 = \"dreamlike-art/dreamlike-diffusion-1.0\"\n",
        "model_id2 = \"stabilityai/stable-diffusion-xl-base-1.0\"\n",
        "\n",
        "pipe = StableDiffusionPipeline.from_pretrained(model_id1, torch_dtype=torch.float16, use_safetensors=True)\n",
        "pipe = pipe.to(\"cuda\")"
      ],
      "metadata": {
        "id": "jhLhOC4jhZI0"
      },
      "execution_count": null,
      "outputs": []
    },
    {
      "cell_type": "code",
      "source": [
        "prompt = \"\"\"dreamlikeart, a grungy man with rainbow hair, travelling between dimensions, dynamic pose, happy, soft eyes and narrow chin,\n",
        "extreme bokeh, dainty figure, long hair straight down, torn kawaii shirt and baggy jeans\n",
        "\"\"\""
      ],
      "metadata": {
        "id": "nC6-8RUPhgaf"
      },
      "execution_count": null,
      "outputs": []
    },
    {
      "cell_type": "code",
      "source": [
        "image = pipe(prompt).images[0]"
      ],
      "metadata": {
        "id": "zVEvunLGhkF0"
      },
      "execution_count": null,
      "outputs": []
    },
    {
      "cell_type": "code",
      "source": [
        "image"
      ],
      "metadata": {
        "id": "Ymhjv_YihvRC"
      },
      "execution_count": null,
      "outputs": []
    },
    {
      "cell_type": "code",
      "source": [
        "print(\"[PROMPT]: \",prompt)\n",
        "plt.imshow(image);\n",
        "plt.axis('off');"
      ],
      "metadata": {
        "id": "xoAZ3y8hh0TB"
      },
      "execution_count": null,
      "outputs": []
    },
    {
      "cell_type": "code",
      "source": [
        "prompt2 = \"\"\"A girl is sittig on a chair & She is accompanied by her tiger. Make sure to keep it cinematic and color to be golden iris\n",
        "\"\"\"\n",
        "\n",
        "image = pipe(prompt2).images[0]"
      ],
      "metadata": {
        "id": "zJZvPm-hivm1"
      },
      "execution_count": null,
      "outputs": []
    },
    {
      "cell_type": "code",
      "source": [
        "print('[PROMPT]: ',prompt2)\n",
        "plt.imshow(image);\n",
        "plt.axis('off');"
      ],
      "metadata": {
        "id": "H7NPlxP4i4yJ"
      },
      "execution_count": null,
      "outputs": []
    },
    {
      "cell_type": "code",
      "source": [],
      "metadata": {
        "id": "OEu34Uloi69k"
      },
      "execution_count": null,
      "outputs": []
    },
    {
      "cell_type": "markdown",
      "source": [
        "https://huggingface.co/docs/diffusers/using-diffusers/loading"
      ],
      "metadata": {
        "id": "SbCQR2bCjBPv"
      }
    },
    {
      "cell_type": "markdown",
      "source": [
        "### Working with Stable Diffusion parameters\n",
        "\n",
        "* Negative prompting\n",
        "* num_inference_steps\n",
        "* height\n",
        "* weight\n",
        "* num_images_per_prompt"
      ],
      "metadata": {
        "id": "OxzCG90mjG-j"
      }
    },
    {
      "cell_type": "code",
      "source": [
        "def generate_image(pipe, prompt, params):\n",
        "  img = pipe(prompt, **params).images\n",
        "\n",
        "  num_images = len(img)\n",
        "  if num_images>1:\n",
        "    fig, ax = plt.subplots(nrows=1, ncols=num_images)\n",
        "    for i in range(num_images):\n",
        "      ax[i].imshow(img[i]);\n",
        "      ax[i].axis('off');\n",
        "\n",
        "  else:\n",
        "    fig = plt.figure()\n",
        "    plt.imshow(img[0]);\n",
        "    plt.axis('off');\n",
        "  plt.tight_layout()"
      ],
      "metadata": {
        "id": "UEK2PDaFjHan"
      },
      "execution_count": null,
      "outputs": []
    },
    {
      "cell_type": "code",
      "source": [
        "prompt = \"dreamlike, beautiful animal playing the festival of colors, draped in traditional Indian attire, throwing colors\"\n",
        "\n",
        "params = {}"
      ],
      "metadata": {
        "id": "TjXRvksPjYkG"
      },
      "execution_count": null,
      "outputs": []
    },
    {
      "cell_type": "code",
      "source": [
        "generate_image(pipe, prompt, params)"
      ],
      "metadata": {
        "id": "HOTEPNVajaTK"
      },
      "execution_count": null,
      "outputs": []
    },
    {
      "cell_type": "code",
      "source": [
        "#num inference steps\n",
        "params = {'num_inference_steps': 100}\n",
        "\n",
        "generate_image(pipe, prompt, params)"
      ],
      "metadata": {
        "id": "EYPx3hnQjcE8"
      },
      "execution_count": null,
      "outputs": []
    },
    {
      "cell_type": "code",
      "source": [
        "#height width\n",
        "params = {'num_inference_steps': 100, 'width': 512, 'height': int(1.5*640)}\n",
        "\n",
        "generate_image(pipe, prompt, params)"
      ],
      "metadata": {
        "id": "aKgQy1ocjrAh"
      },
      "execution_count": null,
      "outputs": []
    },
    {
      "cell_type": "code",
      "source": [
        "#num_images_per_prompt\n",
        "params = {'num_inference_steps': 100, 'num_images_per_prompt': 2}\n",
        "\n",
        "generate_image(pipe, prompt, params)"
      ],
      "metadata": {
        "id": "aPGjcuItj09V"
      },
      "execution_count": null,
      "outputs": []
    },
    {
      "cell_type": "code",
      "source": [
        "# negative_prompt\n",
        "params = {'num_inference_steps': 100, 'num_images_per_prompt': 2, 'negative_prompt': 'ugly, distorted, low quality'}\n",
        "\n",
        "generate_image(pipe, prompt, params)"
      ],
      "metadata": {
        "id": "ffaNRoCAkJL_"
      },
      "execution_count": null,
      "outputs": []
    },
    {
      "cell_type": "code",
      "source": [],
      "metadata": {
        "id": "qFw8Df_gkXuJ"
      },
      "execution_count": null,
      "outputs": []
    }
  ]
}